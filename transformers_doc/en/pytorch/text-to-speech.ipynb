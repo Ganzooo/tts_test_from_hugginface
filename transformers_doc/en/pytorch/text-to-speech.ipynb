{
  "cells": [
    {
      "cell_type": "code",
      "execution_count": 2,
      "metadata": {
        "colab": {
          "base_uri": "https://localhost:8080/"
        },
        "id": "7ZF7uhlokEnD",
        "outputId": "5c05f7ef-2bd1-4dcc-e571-bb0647a05b78"
      },
      "outputs": [
        {
          "output_type": "stream",
          "name": "stdout",
          "text": [
            "Requirement already satisfied: transformers in /usr/local/lib/python3.10/dist-packages (4.46.2)\n",
            "Collecting datasets\n",
            "  Downloading datasets-3.1.0-py3-none-any.whl.metadata (20 kB)\n",
            "Requirement already satisfied: filelock in /usr/local/lib/python3.10/dist-packages (from transformers) (3.16.1)\n",
            "Requirement already satisfied: huggingface-hub<1.0,>=0.23.2 in /usr/local/lib/python3.10/dist-packages (from transformers) (0.26.2)\n",
            "Requirement already satisfied: numpy>=1.17 in /usr/local/lib/python3.10/dist-packages (from transformers) (1.26.4)\n",
            "Requirement already satisfied: packaging>=20.0 in /usr/local/lib/python3.10/dist-packages (from transformers) (24.2)\n",
            "Requirement already satisfied: pyyaml>=5.1 in /usr/local/lib/python3.10/dist-packages (from transformers) (6.0.2)\n",
            "Requirement already satisfied: regex!=2019.12.17 in /usr/local/lib/python3.10/dist-packages (from transformers) (2024.9.11)\n",
            "Requirement already satisfied: requests in /usr/local/lib/python3.10/dist-packages (from transformers) (2.32.3)\n",
            "Requirement already satisfied: safetensors>=0.4.1 in /usr/local/lib/python3.10/dist-packages (from transformers) (0.4.5)\n",
            "Requirement already satisfied: tokenizers<0.21,>=0.20 in /usr/local/lib/python3.10/dist-packages (from transformers) (0.20.3)\n",
            "Requirement already satisfied: tqdm>=4.27 in /usr/local/lib/python3.10/dist-packages (from transformers) (4.66.6)\n",
            "Requirement already satisfied: pyarrow>=15.0.0 in /usr/local/lib/python3.10/dist-packages (from datasets) (17.0.0)\n",
            "Collecting dill<0.3.9,>=0.3.0 (from datasets)\n",
            "  Downloading dill-0.3.8-py3-none-any.whl.metadata (10 kB)\n",
            "Requirement already satisfied: pandas in /usr/local/lib/python3.10/dist-packages (from datasets) (2.2.2)\n",
            "Collecting xxhash (from datasets)\n",
            "  Downloading xxhash-3.5.0-cp310-cp310-manylinux_2_17_x86_64.manylinux2014_x86_64.whl.metadata (12 kB)\n",
            "Collecting multiprocess<0.70.17 (from datasets)\n",
            "  Downloading multiprocess-0.70.16-py310-none-any.whl.metadata (7.2 kB)\n",
            "Collecting fsspec<=2024.9.0,>=2023.1.0 (from fsspec[http]<=2024.9.0,>=2023.1.0->datasets)\n",
            "  Downloading fsspec-2024.9.0-py3-none-any.whl.metadata (11 kB)\n",
            "Requirement already satisfied: aiohttp in /usr/local/lib/python3.10/dist-packages (from datasets) (3.11.2)\n",
            "Requirement already satisfied: aiohappyeyeballs>=2.3.0 in /usr/local/lib/python3.10/dist-packages (from aiohttp->datasets) (2.4.3)\n",
            "Requirement already satisfied: aiosignal>=1.1.2 in /usr/local/lib/python3.10/dist-packages (from aiohttp->datasets) (1.3.1)\n",
            "Requirement already satisfied: attrs>=17.3.0 in /usr/local/lib/python3.10/dist-packages (from aiohttp->datasets) (24.2.0)\n",
            "Requirement already satisfied: frozenlist>=1.1.1 in /usr/local/lib/python3.10/dist-packages (from aiohttp->datasets) (1.5.0)\n",
            "Requirement already satisfied: multidict<7.0,>=4.5 in /usr/local/lib/python3.10/dist-packages (from aiohttp->datasets) (6.1.0)\n",
            "Requirement already satisfied: propcache>=0.2.0 in /usr/local/lib/python3.10/dist-packages (from aiohttp->datasets) (0.2.0)\n",
            "Requirement already satisfied: yarl<2.0,>=1.17.0 in /usr/local/lib/python3.10/dist-packages (from aiohttp->datasets) (1.17.2)\n",
            "Requirement already satisfied: async-timeout<6.0,>=4.0 in /usr/local/lib/python3.10/dist-packages (from aiohttp->datasets) (4.0.3)\n",
            "Requirement already satisfied: typing-extensions>=3.7.4.3 in /usr/local/lib/python3.10/dist-packages (from huggingface-hub<1.0,>=0.23.2->transformers) (4.12.2)\n",
            "Requirement already satisfied: charset-normalizer<4,>=2 in /usr/local/lib/python3.10/dist-packages (from requests->transformers) (3.4.0)\n",
            "Requirement already satisfied: idna<4,>=2.5 in /usr/local/lib/python3.10/dist-packages (from requests->transformers) (3.10)\n",
            "Requirement already satisfied: urllib3<3,>=1.21.1 in /usr/local/lib/python3.10/dist-packages (from requests->transformers) (2.2.3)\n",
            "Requirement already satisfied: certifi>=2017.4.17 in /usr/local/lib/python3.10/dist-packages (from requests->transformers) (2024.8.30)\n",
            "Requirement already satisfied: python-dateutil>=2.8.2 in /usr/local/lib/python3.10/dist-packages (from pandas->datasets) (2.8.2)\n",
            "Requirement already satisfied: pytz>=2020.1 in /usr/local/lib/python3.10/dist-packages (from pandas->datasets) (2024.2)\n",
            "Requirement already satisfied: tzdata>=2022.7 in /usr/local/lib/python3.10/dist-packages (from pandas->datasets) (2024.2)\n",
            "Requirement already satisfied: six>=1.5 in /usr/local/lib/python3.10/dist-packages (from python-dateutil>=2.8.2->pandas->datasets) (1.16.0)\n",
            "Downloading datasets-3.1.0-py3-none-any.whl (480 kB)\n",
            "\u001b[2K   \u001b[90m━━━━━━━━━━━━━━━━━━━━━━━━━━━━━━━━━━━━━━━━\u001b[0m \u001b[32m480.6/480.6 kB\u001b[0m \u001b[31m23.6 MB/s\u001b[0m eta \u001b[36m0:00:00\u001b[0m\n",
            "\u001b[?25hDownloading dill-0.3.8-py3-none-any.whl (116 kB)\n",
            "\u001b[2K   \u001b[90m━━━━━━━━━━━━━━━━━━━━━━━━━━━━━━━━━━━━━━━━\u001b[0m \u001b[32m116.3/116.3 kB\u001b[0m \u001b[31m9.4 MB/s\u001b[0m eta \u001b[36m0:00:00\u001b[0m\n",
            "\u001b[?25hDownloading fsspec-2024.9.0-py3-none-any.whl (179 kB)\n",
            "\u001b[2K   \u001b[90m━━━━━━━━━━━━━━━━━━━━━━━━━━━━━━━━━━━━━━━━\u001b[0m \u001b[32m179.3/179.3 kB\u001b[0m \u001b[31m16.2 MB/s\u001b[0m eta \u001b[36m0:00:00\u001b[0m\n",
            "\u001b[?25hDownloading multiprocess-0.70.16-py310-none-any.whl (134 kB)\n",
            "\u001b[2K   \u001b[90m━━━━━━━━━━━━━━━━━━━━━━━━━━━━━━━━━━━━━━━━\u001b[0m \u001b[32m134.8/134.8 kB\u001b[0m \u001b[31m13.7 MB/s\u001b[0m eta \u001b[36m0:00:00\u001b[0m\n",
            "\u001b[?25hDownloading xxhash-3.5.0-cp310-cp310-manylinux_2_17_x86_64.manylinux2014_x86_64.whl (194 kB)\n",
            "\u001b[2K   \u001b[90m━━━━━━━━━━━━━━━━━━━━━━━━━━━━━━━━━━━━━━━━\u001b[0m \u001b[32m194.1/194.1 kB\u001b[0m \u001b[31m9.5 MB/s\u001b[0m eta \u001b[36m0:00:00\u001b[0m\n",
            "\u001b[?25hInstalling collected packages: xxhash, fsspec, dill, multiprocess, datasets\n",
            "  Attempting uninstall: fsspec\n",
            "    Found existing installation: fsspec 2024.10.0\n",
            "    Uninstalling fsspec-2024.10.0:\n",
            "      Successfully uninstalled fsspec-2024.10.0\n",
            "\u001b[31mERROR: pip's dependency resolver does not currently take into account all the packages that are installed. This behaviour is the source of the following dependency conflicts.\n",
            "gcsfs 2024.10.0 requires fsspec==2024.10.0, but you have fsspec 2024.9.0 which is incompatible.\u001b[0m\u001b[31m\n",
            "\u001b[0mSuccessfully installed datasets-3.1.0 dill-0.3.8 fsspec-2024.9.0 multiprocess-0.70.16 xxhash-3.5.0\n"
          ]
        }
      ],
      "source": [
        "# Transformers installation\n",
        "! pip install transformers datasets\n",
        "# To install from source instead of the last release, comment the command above and uncomment the following one.\n",
        "# ! pip install git+https://github.com/huggingface/transformers.git\n",
        "\n",
        "!pip install datasets soundfile speechbrain accelerate"
      ]
    },
    {
      "cell_type": "markdown",
      "metadata": {
        "id": "0DFLG4dqkEnD"
      },
      "source": [
        "# Text to speech"
      ]
    },
    {
      "cell_type": "markdown",
      "metadata": {
        "id": "FjEYFLfykEnF"
      },
      "source": [
        "Text-to-speech (TTS) is the task of creating natural-sounding speech from text, where the speech can be generated in multiple\n",
        "languages and for multiple speakers. The only text-to-speech model currently available in 🤗 Transformers\n",
        "is [SpeechT5](https://huggingface.co/docs/transformers/main/en/tasks/model_doc/speecht5), though more will be added in the future. SpeechT5 is pre-trained on a combination of\n",
        "speech-to-text and text-to-speech data, allowing it to learn a unified space of hidden representations shared by both text\n",
        "and speech. This means that the same pre-trained model can be fine-tuned for different tasks. Furthermore, SpeechT5\n",
        "supports multiple speakers through x-vector speaker embeddings.\n",
        "\n",
        "This guide illustrates how to:\n",
        "\n",
        "1. Fine-tune [SpeechT5](https://huggingface.co/docs/transformers/main/en/tasks/model_doc/speecht5) that was originally trained on English speech on the Dutch (`nl`) language subset of the [VoxPopuli](https://huggingface.co/datasets/facebook/voxpopuli) dataset.\n",
        "2. Use your fine-tuned model for inference.\n",
        "\n",
        "Before you begin, make sure you have all the necessary libraries installed:\n",
        "\n",
        "```bash\n",
        "pip install datasets soundfile speechbrain accelerate\n",
        "```\n",
        "\n",
        "Install 🤗Transformers from source as not all the SpeechT5 features have been merged into an official release yet:\n",
        "\n",
        "```bash\n",
        "pip install git+https://github.com/huggingface/transformers.git\n",
        "```\n",
        "\n",
        "<Tip>\n",
        "\n",
        "To follow this guide you will need a GPU. If you're working in a notebook, run the following line to check if a GPU is available:\n",
        "\n",
        "```bash\n",
        "!nvidia-smi\n",
        "```\n",
        "\n",
        "</Tip>\n",
        "\n",
        "We encourage you to log in to your Hugging Face account to upload and share your model with the community. When prompted, enter your token to log in:"
      ]
    },
    {
      "cell_type": "code",
      "execution_count": null,
      "metadata": {
        "id": "spRl-5z_kEnF"
      },
      "outputs": [],
      "source": [
        "from huggingface_hub import notebook_login\n",
        "\n",
        "notebook_login()"
      ]
    },
    {
      "cell_type": "markdown",
      "metadata": {
        "id": "WFLjmgJfkEnG"
      },
      "source": [
        "## Load the dataset"
      ]
    },
    {
      "cell_type": "markdown",
      "metadata": {
        "id": "AYhDbz5QkEnG"
      },
      "source": [
        "[VoxPopuli](https://huggingface.co/datasets/facebook/voxpopuli) is a large-scale multilingual speech corpus consisting of\n",
        "data sourced from 2009-2020 European Parliament event recordings. It contains labelled audio-transcription data for 15\n",
        "European languages. In this guide, we are using the Dutch language subset, feel free to pick another subset.\n",
        "\n",
        "Note that VoxPopuli or any other automated speech recognition (ASR) dataset may not be the most suitable\n",
        "option for training TTS models. The features that make it beneficial for ASR, such as excessive background noise, are\n",
        "typically undesirable in TTS. However, finding top-quality, multilingual, and multi-speaker TTS datasets can be quite\n",
        "challenging.\n",
        "\n",
        "Let's load the data:"
      ]
    },
    {
      "cell_type": "code",
      "execution_count": null,
      "metadata": {
        "id": "bzInhyhVkEnG"
      },
      "outputs": [],
      "source": [
        "from datasets import load_dataset, Audio\n",
        "\n",
        "dataset = load_dataset(\"facebook/voxpopuli\", \"nl\", split=\"train\")\n",
        "len(dataset)"
      ]
    },
    {
      "cell_type": "markdown",
      "metadata": {
        "id": "0q_yeIdOkEnH"
      },
      "source": [
        "20968 examples should be sufficient for fine-tuning. SpeechT5 expects audio data to have a sampling rate of 16 kHz, so\n",
        "make sure the examples in the dataset meet this requirement:"
      ]
    },
    {
      "cell_type": "code",
      "execution_count": null,
      "metadata": {
        "id": "Oa2W1t5DkEnH"
      },
      "outputs": [],
      "source": [
        "dataset = dataset.cast_column(\"audio\", Audio(sampling_rate=16000))"
      ]
    },
    {
      "cell_type": "markdown",
      "metadata": {
        "id": "7j3xffgMkEnI"
      },
      "source": [
        "## Preprocess the data"
      ]
    },
    {
      "cell_type": "markdown",
      "metadata": {
        "id": "FsuyIufJkEnI"
      },
      "source": [
        "Let's begin by defining the model checkpoint to use and loading the appropriate processor:"
      ]
    },
    {
      "cell_type": "code",
      "execution_count": null,
      "metadata": {
        "id": "FG5AHwYCkEnI"
      },
      "outputs": [],
      "source": [
        "from transformers import SpeechT5Processor\n",
        "\n",
        "checkpoint = \"microsoft/speecht5_tts\"\n",
        "processor = SpeechT5Processor.from_pretrained(checkpoint)"
      ]
    },
    {
      "cell_type": "markdown",
      "metadata": {
        "id": "AEM6mDhVkEnI"
      },
      "source": [
        "### Text cleanup for SpeechT5 tokenization"
      ]
    },
    {
      "cell_type": "markdown",
      "metadata": {
        "id": "6KzQKpALkEnJ"
      },
      "source": [
        "Start by cleaning up the text data. You'll need the tokenizer part of the processor to process the text:"
      ]
    },
    {
      "cell_type": "code",
      "execution_count": null,
      "metadata": {
        "id": "ci-WjVEYkEnJ"
      },
      "outputs": [],
      "source": [
        "tokenizer = processor.tokenizer"
      ]
    },
    {
      "cell_type": "markdown",
      "metadata": {
        "id": "0QugCb54kEnJ"
      },
      "source": [
        "The dataset examples contain `raw_text` and `normalized_text` features. When deciding which feature to use as the text input,\n",
        "consider that the SpeechT5 tokenizer doesn't have any tokens for numbers. In `normalized_text` the numbers are written\n",
        "out as text. Thus, it is a better fit, and we recommend using    `normalized_text` as input text.\n",
        "\n",
        "Because SpeechT5 was trained on the English language, it may not recognize certain characters in the Dutch dataset. If\n",
        "left as is, these characters will be converted to `<unk>` tokens. However, in Dutch, certain characters like `à` are\n",
        "used to stress syllables. In order to preserve the meaning of the text, we can replace this character with a regular `a`.\n",
        "\n",
        "To identify unsupported tokens, extract all unique characters in the dataset using the `SpeechT5Tokenizer` which\n",
        "works with characters as tokens. To do this, write the `extract_all_chars` mapping function that concatenates\n",
        "the transcriptions from all examples into one string and converts it to a set of characters.\n",
        "Make sure to set `batched=True` and `batch_size=-1` in `dataset.map()` so that all transcriptions are available at once for\n",
        "the mapping function."
      ]
    },
    {
      "cell_type": "code",
      "execution_count": null,
      "metadata": {
        "id": "tKcSvzeJkEnJ"
      },
      "outputs": [],
      "source": [
        "def extract_all_chars(batch):\n",
        "    all_text = \" \".join(batch[\"normalized_text\"])\n",
        "    vocab = list(set(all_text))\n",
        "    return {\"vocab\": [vocab], \"all_text\": [all_text]}\n",
        "\n",
        "\n",
        "vocabs = dataset.map(\n",
        "    extract_all_chars,\n",
        "    batched=True,\n",
        "    batch_size=-1,\n",
        "    keep_in_memory=True,\n",
        "    remove_columns=dataset.column_names,\n",
        ")\n",
        "\n",
        "dataset_vocab = set(vocabs[\"vocab\"][0])\n",
        "tokenizer_vocab = {k for k, _ in tokenizer.get_vocab().items()}"
      ]
    },
    {
      "cell_type": "markdown",
      "metadata": {
        "id": "5CzhIlq1kEnJ"
      },
      "source": [
        "Now you have two sets of characters: one with the vocabulary from the dataset and one with the vocabulary from the tokenizer.\n",
        "To identify any unsupported characters in the dataset, you can take the difference between these two sets. The resulting\n",
        "set will contain the characters that are in the dataset but not in the tokenizer."
      ]
    },
    {
      "cell_type": "code",
      "execution_count": null,
      "metadata": {
        "id": "pocUIJLskEnJ"
      },
      "outputs": [],
      "source": [
        "dataset_vocab - tokenizer_vocab"
      ]
    },
    {
      "cell_type": "markdown",
      "metadata": {
        "id": "Z1D3COzLkEnK"
      },
      "source": [
        "To handle the unsupported characters identified in the previous step, define a function that maps these characters to\n",
        "valid tokens. Note that spaces are already replaced by `▁` in the tokenizer and don't need to be handled separately."
      ]
    },
    {
      "cell_type": "code",
      "execution_count": null,
      "metadata": {
        "id": "rnxVk8uDkEnK"
      },
      "outputs": [],
      "source": [
        "replacements = [\n",
        "    (\"à\", \"a\"),\n",
        "    (\"ç\", \"c\"),\n",
        "    (\"è\", \"e\"),\n",
        "    (\"ë\", \"e\"),\n",
        "    (\"í\", \"i\"),\n",
        "    (\"ï\", \"i\"),\n",
        "    (\"ö\", \"o\"),\n",
        "    (\"ü\", \"u\"),\n",
        "]\n",
        "\n",
        "\n",
        "def cleanup_text(inputs):\n",
        "    for src, dst in replacements:\n",
        "        inputs[\"normalized_text\"] = inputs[\"normalized_text\"].replace(src, dst)\n",
        "    return inputs\n",
        "\n",
        "\n",
        "dataset = dataset.map(cleanup_text)"
      ]
    },
    {
      "cell_type": "markdown",
      "metadata": {
        "id": "pEszOHW0kEnK"
      },
      "source": [
        "Now that you have dealt with special characters in the text, it's time to shift focus to the audio data."
      ]
    },
    {
      "cell_type": "markdown",
      "metadata": {
        "id": "vx2OxP04kEnK"
      },
      "source": [
        "### Speakers"
      ]
    },
    {
      "cell_type": "markdown",
      "metadata": {
        "id": "mrvpVfpmkEnK"
      },
      "source": [
        "The VoxPopuli dataset includes speech from multiple speakers, but how many speakers are represented in the dataset? To\n",
        "determine this, we can count the number of unique speakers and the number of examples each speaker contributes to the dataset.\n",
        "With a total of 20,968 examples in the dataset, this information will give us a better understanding of the distribution of\n",
        "speakers and examples in the data."
      ]
    },
    {
      "cell_type": "code",
      "execution_count": null,
      "metadata": {
        "id": "IImNjktbkEnK"
      },
      "outputs": [],
      "source": [
        "from collections import defaultdict\n",
        "\n",
        "speaker_counts = defaultdict(int)\n",
        "\n",
        "for speaker_id in dataset[\"speaker_id\"]:\n",
        "    speaker_counts[speaker_id] += 1"
      ]
    },
    {
      "cell_type": "markdown",
      "metadata": {
        "id": "cdkO5H9GkEnK"
      },
      "source": [
        "By plotting a histogram you can get a sense of how much data there is for each speaker."
      ]
    },
    {
      "cell_type": "code",
      "execution_count": null,
      "metadata": {
        "id": "_4miLR3GkEnL"
      },
      "outputs": [],
      "source": [
        "import matplotlib.pyplot as plt\n",
        "\n",
        "plt.figure()\n",
        "plt.hist(speaker_counts.values(), bins=20)\n",
        "plt.ylabel(\"Speakers\")\n",
        "plt.xlabel(\"Examples\")\n",
        "plt.show()"
      ]
    },
    {
      "cell_type": "markdown",
      "metadata": {
        "id": "u6XcrlPTkEnL"
      },
      "source": [
        "<div class=\"flex justify-center\">\n",
        "    <img src=\"https://huggingface.co/datasets/huggingface/documentation-images/resolve/main/transformers/tasks/tts_speakers_histogram.png\" alt=\"Speakers histogram\"/>\n",
        "</div>\n",
        "\n",
        "The histogram reveals that approximately one-third of the speakers in the dataset have fewer than 100 examples, while\n",
        "around ten speakers have more than 500 examples. To improve training efficiency and balance the dataset, we can limit\n",
        "the data to speakers with between 100 and 400 examples."
      ]
    },
    {
      "cell_type": "code",
      "execution_count": null,
      "metadata": {
        "id": "8sowu76GkEnL"
      },
      "outputs": [],
      "source": [
        "def select_speaker(speaker_id):\n",
        "    return 100 <= speaker_counts[speaker_id] <= 400\n",
        "\n",
        "\n",
        "dataset = dataset.filter(select_speaker, input_columns=[\"speaker_id\"])"
      ]
    },
    {
      "cell_type": "markdown",
      "metadata": {
        "id": "M6Fnk-iqkEnL"
      },
      "source": [
        "Let's check how many speakers remain:"
      ]
    },
    {
      "cell_type": "code",
      "execution_count": null,
      "metadata": {
        "id": "6w0k7wCMkEnL"
      },
      "outputs": [],
      "source": [
        "len(set(dataset[\"speaker_id\"]))"
      ]
    },
    {
      "cell_type": "markdown",
      "metadata": {
        "id": "gZ59Og4GkEnL"
      },
      "source": [
        "Let's see how many examples are left:"
      ]
    },
    {
      "cell_type": "code",
      "execution_count": null,
      "metadata": {
        "id": "_0qa2yFmkEnL"
      },
      "outputs": [],
      "source": [
        "len(dataset)"
      ]
    },
    {
      "cell_type": "markdown",
      "metadata": {
        "id": "dZNCpc1AkEnM"
      },
      "source": [
        "You are left with just under 10,000 examples from approximately 40 unique speakers, which should be sufficient.\n",
        "\n",
        "Note that some speakers with few examples may actually have more audio available if the examples are long. However,\n",
        "determining the total amount of audio for each speaker requires scanning through the entire dataset, which is a\n",
        "time-consuming process that involves loading and decoding each audio file. As such, we have chosen to skip this step here."
      ]
    },
    {
      "cell_type": "markdown",
      "metadata": {
        "id": "CdHZkP4YkEnM"
      },
      "source": [
        "### Speaker embeddings"
      ]
    },
    {
      "cell_type": "markdown",
      "metadata": {
        "id": "EUuOvYp2kEnM"
      },
      "source": [
        "To enable the TTS model to differentiate between multiple speakers, you'll need to create a speaker embedding for each example.\n",
        "The speaker embedding is an additional input into the model that captures a particular speaker's voice characteristics.\n",
        "To generate these speaker embeddings, use the pre-trained [spkrec-xvect-voxceleb](https://huggingface.co/speechbrain/spkrec-xvect-voxceleb)\n",
        "model from SpeechBrain.\n",
        "\n",
        "Create a function `create_speaker_embedding()` that takes an input audio waveform and outputs a 512-element vector\n",
        "containing the corresponding speaker embedding."
      ]
    },
    {
      "cell_type": "code",
      "source": [
        "!pip install speechbrain"
      ],
      "metadata": {
        "id": "WDLhL9fFnMlf"
      },
      "execution_count": null,
      "outputs": []
    },
    {
      "cell_type": "code",
      "execution_count": null,
      "metadata": {
        "id": "FeB0bK-ikEnM"
      },
      "outputs": [],
      "source": [
        "import os\n",
        "import torch\n",
        "from speechbrain.pretrained import EncoderClassifier\n",
        "\n",
        "spk_model_name = \"speechbrain/spkrec-xvect-voxceleb\"\n",
        "\n",
        "device = \"cuda\" if torch.cuda.is_available() else \"cpu\"\n",
        "speaker_model = EncoderClassifier.from_hparams(\n",
        "    source=spk_model_name,\n",
        "    run_opts={\"device\": device},\n",
        "    savedir=os.path.join(\"/tmp\", spk_model_name),\n",
        ")\n",
        "\n",
        "\n",
        "def create_speaker_embedding(waveform):\n",
        "    with torch.no_grad():\n",
        "        speaker_embeddings = speaker_model.encode_batch(torch.tensor(waveform))\n",
        "        speaker_embeddings = torch.nn.functional.normalize(speaker_embeddings, dim=2)\n",
        "        speaker_embeddings = speaker_embeddings.squeeze().cpu().numpy()\n",
        "    return speaker_embeddings"
      ]
    },
    {
      "cell_type": "markdown",
      "metadata": {
        "id": "pZf0a6JMkEnM"
      },
      "source": [
        "It's important to note that the `speechbrain/spkrec-xvect-voxceleb` model was trained on English speech from the VoxCeleb\n",
        "dataset, whereas the training examples in this guide are in Dutch. While we believe that this model will still generate\n",
        "reasonable speaker embeddings for our Dutch dataset, this assumption may not hold true in all cases.\n",
        "\n",
        "For optimal results, we recommend training an X-vector model on the target speech first. This will ensure that the model\n",
        "is better able to capture the unique voice characteristics present in the Dutch language."
      ]
    },
    {
      "cell_type": "markdown",
      "metadata": {
        "id": "3FuUQyeHkEnM"
      },
      "source": [
        "### Processing the dataset"
      ]
    },
    {
      "cell_type": "markdown",
      "metadata": {
        "id": "_Ji5YGHOkEnQ"
      },
      "source": [
        "Finally, let's process the data into the format the model expects. Create a `prepare_dataset` function that takes in a\n",
        "single example and uses the `SpeechT5Processor` object to tokenize the input text and load the target audio into a log-mel spectrogram.\n",
        "It should also add the speaker embeddings as an additional input."
      ]
    },
    {
      "cell_type": "code",
      "execution_count": null,
      "metadata": {
        "id": "a4kIZvbBkEnQ"
      },
      "outputs": [],
      "source": [
        "def prepare_dataset(example):\n",
        "    audio = example[\"audio\"]\n",
        "\n",
        "    example = processor(\n",
        "        text=example[\"normalized_text\"],\n",
        "        audio_target=audio[\"array\"],\n",
        "        sampling_rate=audio[\"sampling_rate\"],\n",
        "        return_attention_mask=False,\n",
        "    )\n",
        "\n",
        "    # strip off the batch dimension\n",
        "    example[\"labels\"] = example[\"labels\"][0]\n",
        "\n",
        "    # use SpeechBrain to obtain x-vector\n",
        "    example[\"speaker_embeddings\"] = create_speaker_embedding(audio[\"array\"])\n",
        "\n",
        "    return example"
      ]
    },
    {
      "cell_type": "markdown",
      "metadata": {
        "id": "3nT85b_wkEnQ"
      },
      "source": [
        "Verify the processing is correct by looking at a single example:"
      ]
    },
    {
      "cell_type": "code",
      "execution_count": null,
      "metadata": {
        "id": "PIV7UVchkEnR"
      },
      "outputs": [],
      "source": [
        "processed_example = prepare_dataset(dataset[0])\n",
        "list(processed_example.keys())"
      ]
    },
    {
      "cell_type": "markdown",
      "metadata": {
        "id": "8I4117YOkEnR"
      },
      "source": [
        "Speaker embeddings should be a 512-element vector:"
      ]
    },
    {
      "cell_type": "code",
      "execution_count": null,
      "metadata": {
        "id": "AhIpoJukkEnR"
      },
      "outputs": [],
      "source": [
        "processed_example[\"speaker_embeddings\"].shape"
      ]
    },
    {
      "cell_type": "markdown",
      "metadata": {
        "id": "e0xhJsfIkEnR"
      },
      "source": [
        "The labels should be a log-mel spectrogram with 80 mel bins."
      ]
    },
    {
      "cell_type": "code",
      "execution_count": null,
      "metadata": {
        "id": "BSBWBBYrkEnR"
      },
      "outputs": [],
      "source": [
        "import matplotlib.pyplot as plt\n",
        "\n",
        "plt.figure()\n",
        "plt.imshow(processed_example[\"labels\"].T)\n",
        "plt.show()"
      ]
    },
    {
      "cell_type": "markdown",
      "metadata": {
        "id": "Hq9Mj6udkEnR"
      },
      "source": [
        "<div class=\"flex justify-center\">\n",
        "    <img src=\"https://huggingface.co/datasets/huggingface/documentation-images/resolve/main/transformers/tasks/tts_logmelspectrogram_1.png\" alt=\"Log-mel spectrogram with 80 mel bins\"/>\n",
        "</div>\n",
        "\n",
        "Side note: If you find this spectrogram confusing, it may be due to your familiarity with the convention of placing low frequencies\n",
        "at the bottom and high frequencies at the top of a plot. However, when plotting spectrograms as an image using the matplotlib library,\n",
        "the y-axis is flipped and the spectrograms appear upside down.\n",
        "\n",
        "Now apply the processing function to the entire dataset. This will take between 5 and 10 minutes."
      ]
    },
    {
      "cell_type": "code",
      "execution_count": null,
      "metadata": {
        "id": "UBLmxektkEnR"
      },
      "outputs": [],
      "source": [
        "dataset = dataset.map(prepare_dataset, remove_columns=dataset.column_names)"
      ]
    },
    {
      "cell_type": "markdown",
      "metadata": {
        "id": "--5i5VYJkEnS"
      },
      "source": [
        "You'll see a warning saying that some examples in the dataset are longer than the maximum input length the model can handle (600 tokens).\n",
        "Remove those examples from the dataset. Here we go even further and to allow for larger batch sizes we remove anything over 200 tokens."
      ]
    },
    {
      "cell_type": "code",
      "execution_count": null,
      "metadata": {
        "id": "i9oBs-YvkEnS"
      },
      "outputs": [],
      "source": [
        "def is_not_too_long(input_ids):\n",
        "    input_length = len(input_ids)\n",
        "    return input_length < 200\n",
        "\n",
        "\n",
        "dataset = dataset.filter(is_not_too_long, input_columns=[\"input_ids\"])\n",
        "len(dataset)"
      ]
    },
    {
      "cell_type": "markdown",
      "metadata": {
        "id": "CgvWBXvRkEnS"
      },
      "source": [
        "Next, create a basic train/test split:"
      ]
    },
    {
      "cell_type": "code",
      "execution_count": null,
      "metadata": {
        "id": "eZAA65BVkEnS"
      },
      "outputs": [],
      "source": [
        "dataset = dataset.train_test_split(test_size=0.1)"
      ]
    },
    {
      "cell_type": "markdown",
      "metadata": {
        "id": "HFW1F-zwkEnS"
      },
      "source": [
        "### Data collator"
      ]
    },
    {
      "cell_type": "markdown",
      "metadata": {
        "id": "oKb6LQfOkEnS"
      },
      "source": [
        "In order to combine multiple examples into a batch, you need to define a custom data collator. This collator will pad shorter sequences with padding\n",
        "tokens, ensuring that all examples have the same length. For the spectrogram labels, the padded portions are replaced with the special value `-100`. This special value\n",
        "instructs the model to ignore that part of the spectrogram when calculating the spectrogram loss."
      ]
    },
    {
      "cell_type": "code",
      "execution_count": null,
      "metadata": {
        "id": "wcnWxOPfkEnT"
      },
      "outputs": [],
      "source": [
        "from dataclasses import dataclass\n",
        "from typing import Any, Dict, List, Union\n",
        "\n",
        "\n",
        "@dataclass\n",
        "class TTSDataCollatorWithPadding:\n",
        "    processor: Any\n",
        "\n",
        "    def __call__(self, features: List[Dict[str, Union[List[int], torch.Tensor]]]) -> Dict[str, torch.Tensor]:\n",
        "        input_ids = [{\"input_ids\": feature[\"input_ids\"]} for feature in features]\n",
        "        label_features = [{\"input_values\": feature[\"labels\"]} for feature in features]\n",
        "        speaker_features = [feature[\"speaker_embeddings\"] for feature in features]\n",
        "\n",
        "        # collate the inputs and targets into a batch\n",
        "        batch = processor.pad(input_ids=input_ids, labels=label_features, return_tensors=\"pt\")\n",
        "\n",
        "        # replace padding with -100 to ignore loss correctly\n",
        "        batch[\"labels\"] = batch[\"labels\"].masked_fill(batch.decoder_attention_mask.unsqueeze(-1).ne(1), -100)\n",
        "\n",
        "        # not used during fine-tuning\n",
        "        del batch[\"decoder_attention_mask\"]\n",
        "\n",
        "        # round down target lengths to multiple of reduction factor\n",
        "        if model.config.reduction_factor > 1:\n",
        "            target_lengths = torch.tensor([len(feature[\"input_values\"]) for feature in label_features])\n",
        "            target_lengths = target_lengths.new(\n",
        "                [length - length % model.config.reduction_factor for length in target_lengths]\n",
        "            )\n",
        "            max_length = max(target_lengths)\n",
        "            batch[\"labels\"] = batch[\"labels\"][:, :max_length]\n",
        "\n",
        "        # also add in the speaker embeddings\n",
        "        batch[\"speaker_embeddings\"] = torch.tensor(speaker_features)\n",
        "\n",
        "        return batch"
      ]
    },
    {
      "cell_type": "markdown",
      "metadata": {
        "id": "GVIGokzskEnT"
      },
      "source": [
        "In SpeechT5, the input to the decoder part of the model is reduced by a factor 2. In other words, it throws away every\n",
        "other timestep from the target sequence. The decoder then predicts a sequence that is twice as long. Since the original\n",
        "target sequence length may be odd, the data collator makes sure to round the maximum length of the batch down to be a\n",
        "multiple of 2."
      ]
    },
    {
      "cell_type": "code",
      "execution_count": null,
      "metadata": {
        "id": "wq-dtQNbkEnT"
      },
      "outputs": [],
      "source": [
        "data_collator = TTSDataCollatorWithPadding(processor=processor)"
      ]
    },
    {
      "cell_type": "markdown",
      "metadata": {
        "id": "3l2226p1kEnT"
      },
      "source": [
        "## Train the model"
      ]
    },
    {
      "cell_type": "markdown",
      "metadata": {
        "id": "Gjreepf-kEnT"
      },
      "source": [
        "Load the pre-trained model from the same checkpoint as you used for loading the processor:"
      ]
    },
    {
      "cell_type": "code",
      "execution_count": null,
      "metadata": {
        "id": "8xEAfhU_kEnT"
      },
      "outputs": [],
      "source": [
        "from transformers import SpeechT5ForTextToSpeech\n",
        "\n",
        "model = SpeechT5ForTextToSpeech.from_pretrained(checkpoint)"
      ]
    },
    {
      "cell_type": "markdown",
      "metadata": {
        "id": "apeh4JmGkEnU"
      },
      "source": [
        "The `use_cache=True` option is incompatible with gradient checkpointing. Disable it for training."
      ]
    },
    {
      "cell_type": "code",
      "execution_count": null,
      "metadata": {
        "id": "kL6l9rVpkEnU"
      },
      "outputs": [],
      "source": [
        "model.config.use_cache = False"
      ]
    },
    {
      "cell_type": "markdown",
      "metadata": {
        "id": "y-No_v-DkEnU"
      },
      "source": [
        "Define the training arguments. Here we are not computing any evaluation metrics during the training process. Instead, we'll\n",
        "only look at the loss:"
      ]
    },
    {
      "cell_type": "code",
      "execution_count": null,
      "metadata": {
        "id": "hiPsha0NkEnU"
      },
      "outputs": [],
      "source": [
        "from transformers import Seq2SeqTrainingArguments\n",
        "\n",
        "training_args = Seq2SeqTrainingArguments(\n",
        "    output_dir=\"speecht5_finetuned_voxpopuli_nl\",  # change to a repo name of your choice\n",
        "    per_device_train_batch_size=4,\n",
        "    gradient_accumulation_steps=8,\n",
        "    learning_rate=1e-5,\n",
        "    warmup_steps=500,\n",
        "    max_steps=4000,\n",
        "    gradient_checkpointing=True,\n",
        "    fp16=True,\n",
        "    evaluation_strategy=\"steps\",\n",
        "    per_device_eval_batch_size=2,\n",
        "    save_steps=1000,\n",
        "    eval_steps=1000,\n",
        "    logging_steps=25,\n",
        "    report_to=[\"tensorboard\"],\n",
        "    load_best_model_at_end=True,\n",
        "    greater_is_better=False,\n",
        "    label_names=[\"labels\"],\n",
        "    push_to_hub=True,\n",
        ")"
      ]
    },
    {
      "cell_type": "markdown",
      "metadata": {
        "id": "q2K9usbbkEnU"
      },
      "source": [
        "Instantiate the `Trainer` object  and pass the model, dataset, and data collator to it."
      ]
    },
    {
      "cell_type": "code",
      "execution_count": null,
      "metadata": {
        "id": "CY3BiVbVkEnU"
      },
      "outputs": [],
      "source": [
        "from transformers import Seq2SeqTrainer\n",
        "\n",
        "trainer = Seq2SeqTrainer(\n",
        "    args=training_args,\n",
        "    model=model,\n",
        "    train_dataset=dataset[\"train\"],\n",
        "    eval_dataset=dataset[\"test\"],\n",
        "    data_collator=data_collator,\n",
        "    tokenizer=processor,\n",
        ")"
      ]
    },
    {
      "cell_type": "markdown",
      "metadata": {
        "id": "eKOKqfxykEnU"
      },
      "source": [
        "And with that, you're ready to start training! Training will take several hours. Depending on your GPU,\n",
        "it is possible that you will encounter a CUDA \"out-of-memory\" error when you start training. In this case, you can reduce\n",
        "the `per_device_train_batch_size` incrementally by factors of 2 and increase `gradient_accumulation_steps` by 2x to compensate."
      ]
    },
    {
      "cell_type": "code",
      "execution_count": null,
      "metadata": {
        "id": "6eFVSd-8kEnV"
      },
      "outputs": [],
      "source": [
        "trainer.train()"
      ]
    },
    {
      "cell_type": "markdown",
      "metadata": {
        "id": "rjONgJcAkEnV"
      },
      "source": [
        "Push the final model to the 🤗 Hub:"
      ]
    },
    {
      "cell_type": "code",
      "execution_count": null,
      "metadata": {
        "id": "5DL9_4KIkEnV"
      },
      "outputs": [],
      "source": [
        "trainer.push_to_hub()"
      ]
    },
    {
      "cell_type": "markdown",
      "metadata": {
        "id": "OZogKncOkEnV"
      },
      "source": [
        "## Inference"
      ]
    },
    {
      "cell_type": "markdown",
      "metadata": {
        "id": "XZ61J-9BkEnV"
      },
      "source": [
        "Great, now that you've fine-tuned a model, you can use it for inference!\n",
        "Load the model from the 🤗 Hub (make sure to use your account name in the following code snippet):"
      ]
    },
    {
      "cell_type": "code",
      "execution_count": null,
      "metadata": {
        "id": "fV-IDVVkkEnV"
      },
      "outputs": [],
      "source": [
        "model = SpeechT5ForTextToSpeech.from_pretrained(\"YOUR_ACCOUNT/speecht5_finetuned_voxpopuli_nl\")"
      ]
    },
    {
      "cell_type": "markdown",
      "metadata": {
        "id": "hjGApgnakEnV"
      },
      "source": [
        "Pick an example, here we'll take one from the test dataset. Obtain a speaker embedding."
      ]
    },
    {
      "cell_type": "code",
      "execution_count": null,
      "metadata": {
        "id": "U9gAwG4HkEnW"
      },
      "outputs": [],
      "source": [
        "example = dataset[\"test\"][304]\n",
        "speaker_embeddings = torch.tensor(example[\"speaker_embeddings\"]).unsqueeze(0)"
      ]
    },
    {
      "cell_type": "markdown",
      "metadata": {
        "id": "Ss4MolsRkEnW"
      },
      "source": [
        "Define some input text and tokenize it."
      ]
    },
    {
      "cell_type": "code",
      "execution_count": null,
      "metadata": {
        "id": "0Pf4pQrGkEnW"
      },
      "outputs": [],
      "source": [
        "text = \"hello what is your name tell me right now!\""
      ]
    },
    {
      "cell_type": "markdown",
      "metadata": {
        "id": "5MWRYSkXkEnW"
      },
      "source": [
        "Preprocess the input text:"
      ]
    },
    {
      "cell_type": "code",
      "execution_count": null,
      "metadata": {
        "id": "yFxeJKAYkEnW"
      },
      "outputs": [],
      "source": [
        "inputs = processor(text=text, return_tensors=\"pt\")"
      ]
    },
    {
      "cell_type": "markdown",
      "metadata": {
        "id": "1SrPKHLzkEnW"
      },
      "source": [
        "Create a spectrogram with your model:"
      ]
    },
    {
      "cell_type": "code",
      "execution_count": null,
      "metadata": {
        "id": "La0LUobFkEnW"
      },
      "outputs": [],
      "source": [
        "spectrogram = model.generate_speech(inputs[\"input_ids\"], speaker_embeddings)"
      ]
    },
    {
      "cell_type": "markdown",
      "metadata": {
        "id": "BL53RCGIkEnW"
      },
      "source": [
        "Visualize the spectrogram, if you'd like to:"
      ]
    },
    {
      "cell_type": "code",
      "execution_count": null,
      "metadata": {
        "id": "UaecP_yVkEnX"
      },
      "outputs": [],
      "source": [
        "plt.figure()\n",
        "plt.imshow(spectrogram.T)\n",
        "plt.show()"
      ]
    },
    {
      "cell_type": "markdown",
      "metadata": {
        "id": "JyrqP1_xkEnX"
      },
      "source": [
        "<div class=\"flex justify-center\">\n",
        "    <img src=\"https://huggingface.co/datasets/huggingface/documentation-images/resolve/main/transformers/tasks/tts_logmelspectrogram_2.png\" alt=\"Generated log-mel spectrogram\"/>\n",
        "</div>\n",
        "\n",
        "Finally, use the vocoder to turn the spectrogram into sound."
      ]
    },
    {
      "cell_type": "code",
      "execution_count": null,
      "metadata": {
        "id": "dU7usO6jkEnX"
      },
      "outputs": [],
      "source": [
        "with torch.no_grad():\n",
        "    speech = vocoder(spectrogram)\n",
        "\n",
        "from IPython.display import Audio\n",
        "\n",
        "Audio(speech.numpy(), rate=16000)"
      ]
    },
    {
      "cell_type": "markdown",
      "metadata": {
        "id": "eNktoFXkkEnX"
      },
      "source": [
        "In our experience, obtaining satisfactory results from this model can be challenging. The quality of the speaker\n",
        "embeddings appears to be a significant factor. Since SpeechT5 was pre-trained with English x-vectors, it performs best\n",
        "when using English speaker embeddings. If the synthesized speech sounds poor, try using a different speaker embedding.\n",
        "\n",
        "Increasing the training duration is also likely to enhance the quality of the results. Even so, the speech clearly is Dutch instead of English, and it does\n",
        "capture the voice characteristics of the speaker (compare to the original audio in the example).\n",
        "Another thing to experiment with is the model's configuration. For example, try using `config.reduction_factor = 1` to\n",
        "see if this improves the results.\n",
        "\n",
        "Finally, it is essential to consider ethical considerations. Although TTS technology has numerous useful applications, it\n",
        "may also be used for malicious purposes, such as impersonating someone's voice without their knowledge or consent. Please\n",
        "use TTS judiciously and responsibly."
      ]
    }
  ],
  "metadata": {
    "colab": {
      "provenance": [],
      "gpuType": "T4"
    },
    "language_info": {
      "name": "python"
    },
    "kernelspec": {
      "name": "python3",
      "display_name": "Python 3"
    },
    "accelerator": "GPU"
  },
  "nbformat": 4,
  "nbformat_minor": 0
}